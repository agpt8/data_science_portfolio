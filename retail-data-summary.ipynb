{
 "cells": [
  {
   "cell_type": "markdown",
   "id": "53436fac",
   "metadata": {
    "_cell_guid": "b1076dfc-b9ad-4769-8c92-a6c4dae69d19",
    "_uuid": "8f2839f25d086af736a60e9eeb907d3b93b6e0e5",
    "papermill": {
     "duration": 0.002212,
     "end_time": "2023-12-27T12:49:46.685036",
     "exception": false,
     "start_time": "2023-12-27T12:49:46.682824",
     "status": "completed"
    },
    "tags": []
   },
   "source": [
    "# Summarizing Retail Data - Grouping and aggregating data\n",
    "\n",
    "For this notebook, we will be exploring the techniques for grouping and aggregating data. We will use data from https://archive.ics.uci.edu/ml/datasets/online+retail\n",
    "\n",
    "Table of contents:\n",
    "- Speeding up data loading with Feather\n",
    "- Grouping data using pandas library\n",
    "- Plotting Aggregations\n",
    "- Limiting Groups\n",
    "- Aggregating data using built-in functions\n",
    "- Manipulating Plot\n"
   ]
  }
 ],
 "metadata": {
  "kaggle": {
   "accelerator": "none",
   "dataSources": [],
   "dockerImageVersionId": 30626,
   "isGpuEnabled": false,
   "isInternetEnabled": true,
   "language": "python",
   "sourceType": "notebook"
  },
  "kernelspec": {
   "display_name": "Python 3",
   "language": "python",
   "name": "python3"
  },
  "language_info": {
   "codemirror_mode": {
    "name": "ipython",
    "version": 3
   },
   "file_extension": ".py",
   "mimetype": "text/x-python",
   "name": "python",
   "nbconvert_exporter": "python",
   "pygments_lexer": "ipython3",
   "version": "3.10.12"
  },
  "papermill": {
   "default_parameters": {},
   "duration": 4.083187,
   "end_time": "2023-12-27T12:49:47.108856",
   "environment_variables": {},
   "exception": null,
   "input_path": "__notebook__.ipynb",
   "output_path": "__notebook__.ipynb",
   "parameters": {},
   "start_time": "2023-12-27T12:49:43.025669",
   "version": "2.4.0"
  }
 },
 "nbformat": 4,
 "nbformat_minor": 5
}
